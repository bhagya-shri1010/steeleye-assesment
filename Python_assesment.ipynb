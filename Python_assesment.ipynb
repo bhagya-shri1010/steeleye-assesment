{
  "cells": [
    {
      "cell_type": "markdown",
      "source": [
        "Two independent functions are created to download zip file and to convert xml to csv"
      ],
      "metadata": {
        "id": "t6ri2HDbw0kq"
      }
    },
    {
      "cell_type": "code",
      "source": [
        "# downloading zip file from url\n",
        "import requests, zipfile, io\n",
        "def download_zip(url,path):\n",
        "  ''' \n",
        "  the function is creted to download zip file from the given url and \n",
        "  extracting a zip file to extract zip file at perticular location we\n",
        "  need to give [ath to the function this function takes two arguments,\n",
        "  while calling this function make sure to give url and the path\n",
        "  do not give path of read only directories such as sys\n",
        "  '''\n",
        "  r = requests.get(url)\n",
        "  z = zipfile.ZipFile(io.BytesIO(r.content))\n",
        "  z.extractall(path)\n",
        "\n"
      ],
      "metadata": {
        "id": "yrFX2_tUvzuu"
      },
      "execution_count": null,
      "outputs": []
    },
    {
      "cell_type": "code",
      "source": [
        "# importing required libraries\n",
        "# PEP 8 conventions\n",
        "import pandas as pd\n",
        "import xml.etree.ElementTree as ET\n",
        "def xml_to_csv(xml_path):\n",
        "  '''\n",
        "  this function is created to convert xml file to csv file \n",
        "  it takes one argument which is xml_path, we should give \n",
        "  the path lf xml file which we downloaded in \n",
        "  download_zip function\n",
        "  '''\n",
        "  # accesing the xml file from google drive or from any directory\n",
        "  xml_file_path = xml_path\n",
        "  et = ET.parse(xml_file_path)\n",
        "  # accesing root and data of xml file\n",
        "  # accesing root and data of xml file\n",
        "  etroot = et.getroot()\n",
        "  # Parent node to look at\n",
        "  parent_tag = 'TermntdRcrd'\n",
        "  tag = 'Issr'\n",
        "  attr_tag = 'FinInstrmGnlAttrbts'\n",
        " # declaring the column names\n",
        "  column_names = ['Id', 'FullNm', 'ClssfctnTp', 'CmmdtyDerivInd', 'NtnlCcy']\n",
        "  et_columns = ['FinInstrmGnlAttrbts.%s' %column for column in column_names]\n",
        "  et_columns.append(tag)\n",
        "  rows = list()\n",
        "  empty_entry = [None, None, None, None, None, None]\n",
        "    \n",
        "  for parent in etroot.iter():\n",
        "      # If parent is found\n",
        "      if parent_tag in parent.tag:\n",
        "          # Initialise array of required elements\n",
        "          row = empty_entry\n",
        "          for child in parent:\n",
        "              # If required child has been found\n",
        "              if attr_tag in child.tag:\n",
        "                  # Get the required grand-childr\n",
        "                  for column in child:\n",
        "                      if \"Id\" in column.tag:\n",
        "                          row[0] = column.text\n",
        "                      elif \"FullNm\" in column.tag:\n",
        "                          row[1] = column.text\n",
        "                      elif \"ClssfctnTp\" in column.tag:\n",
        "                          row[2] = column.text\n",
        "                      elif \"CmmdtyDerivInd\" in column.tag:\n",
        "                          row[3] = column.text\n",
        "                      elif \"NtnlCcy\" in column.tag:\n",
        "                          row[4] = column.text\n",
        "              # If Issr tag found\n",
        "              elif tag in child.tag:\n",
        "                  row[5] = child.text\n",
        "          # Add to list of rows\n",
        "          rows.append(row)\n",
        "  # Creating pandas Dataframe\n",
        "  df = pd.DataFrame(data=rows, columns=et_columns)\n",
        "  # dataframe to csv\n",
        "  # pythonassesment is name given to csv file\n",
        "  df.to_csv(('pythonassesment.csv'), index=False)          \n"
      ],
      "metadata": {
        "id": "bZIloeYN8wGt"
      },
      "execution_count": null,
      "outputs": []
    },
    {
      "cell_type": "code",
      "source": [
        "download_zip('http://firds.esma.europa.eu/firds/DLTINS_20210117_01of01.zip','/home')\n"
      ],
      "metadata": {
        "id": "Al1c64pEXDXD"
      },
      "execution_count": null,
      "outputs": []
    },
    {
      "cell_type": "code",
      "source": [
        "xml_to_csv('/home/DLTINS_20210117_01of01.xml')"
      ],
      "metadata": {
        "id": "4O1mXode9FBt"
      },
      "execution_count": null,
      "outputs": []
    },
    {
      "cell_type": "code",
      "source": [],
      "metadata": {
        "id": "Yewy4XWW89X1"
      },
      "execution_count": null,
      "outputs": []
    },
    {
      "cell_type": "code",
      "source": [],
      "metadata": {
        "id": "-Uj7_K409Fhc"
      },
      "execution_count": null,
      "outputs": []
    },
    {
      "cell_type": "code",
      "source": [],
      "metadata": {
        "id": "pko4dkm4helU"
      },
      "execution_count": null,
      "outputs": []
    }
  ],
  "metadata": {
    "colab": {
      "collapsed_sections": [],
      "provenance": []
    },
    "kernelspec": {
      "display_name": "Python 3",
      "name": "python3"
    },
    "language_info": {
      "name": "python"
    }
  },
  "nbformat": 4,
  "nbformat_minor": 0
}